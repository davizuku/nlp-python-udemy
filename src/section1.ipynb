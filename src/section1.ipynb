{
 "cells": [
  {
   "cell_type": "markdown",
   "metadata": {
    "collapsed": true
   },
   "source": [
    "# NLP with Python"
   ]
  },
  {
   "cell_type": "markdown",
   "metadata": {
    "collapsed": true
   },
   "source": [
    "## Outline\n",
    "\n",
    "- Word embeddings (word2vec and glove)\n",
    "- Deep Neural Networks for NLP (RNN)\n",
    "- Recursive Neural Networks"
   ]
  },
  {
   "cell_type": "markdown",
   "metadata": {},
   "source": [
    "### Code\n",
    "\n",
    "- https://github.com/lazyprogrammer/machine_learning_examples/tree/master/nlp_class2\n",
    "- Clone this repository adjacent to this one. \n",
    "- Then add a symlink like so: \n",
    "```\n",
    "ln -s /path/to/this/repo/large_files/ ../machine_learning_examples/nlp_class2/large_files\n",
    "```\n",
    "\n",
    "\n",
    "### Datasets\n",
    "\n",
    "- Word2Vec and Glove\n",
    "  - https://dumps.wikimedia.org\n",
    " \n",
    "\"pages-article\" data files. They are in XML, to convert them to TXT: https://github.com/yohasebe/wp2txt\n",
    "\n",
    "\n",
    "- Part of speech tagging\n",
    "  - http://www.cnts.ua.ac.be/conll2000/chunking\n",
    "  \n",
    "- Named Entity Recognition\n",
    "  - https://github.com/aritter/twitter_nlp/blob/master/data/annotated/ner.txt\n",
    "     \n",
    "- Sentiment analysis\n",
    "  - http://nlp.stanford.edu/sentiment/\n",
    "  "
   ]
  },
  {
   "cell_type": "markdown",
   "metadata": {},
   "source": [
    "## Guidelines\n",
    "\n",
    "- Use Q&A\n",
    "- Meet prerrequisites\n",
    "- Implement everything in code\n"
   ]
  },
  {
   "cell_type": "markdown",
   "metadata": {},
   "source": [
    "## Installing wp2txt\n",
    "\n",
    "```\n",
    " sudo gem install wp2txt\n",
    "```"
   ]
  },
  {
   "cell_type": "code",
   "execution_count": null,
   "metadata": {
    "collapsed": true
   },
   "outputs": [],
   "source": []
  }
 ],
 "metadata": {
  "kernelspec": {
   "display_name": "Python 3",
   "language": "python",
   "name": "python3"
  },
  "language_info": {
   "codemirror_mode": {
    "name": "ipython",
    "version": 3
   },
   "file_extension": ".py",
   "mimetype": "text/x-python",
   "name": "python",
   "nbconvert_exporter": "python",
   "pygments_lexer": "ipython3",
   "version": "3.5.2"
  }
 },
 "nbformat": 4,
 "nbformat_minor": 2
}
